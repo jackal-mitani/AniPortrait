{
 "cells": [
  {
   "cell_type": "code",
   "execution_count": null,
   "id": "d71cdd55-5ac8-481c-ab4c-7d750aa1216a",
   "metadata": {
    "execution": {
     "iopub.status.busy": "2024-04-30T07:56:43.008410Z",
     "iopub.status.idle": "2024-04-30T07:56:43.008410Z",
     "shell.execute_reply": "2024-04-30T07:56:43.008410Z",
     "shell.execute_reply.started": "2024-04-30T07:56:43.008410Z"
    }
   },
   "outputs": [],
   "source": [
    "!nvidia-smi\n",
    "\n",
    "%cd /notebooks\n",
    "!git clone https://github.com/Zejun-Yang/AniPortrait.git\n",
    "%cd /notebooks/AniPortrait\n",
    "\n",
    "!sudo apt-get update -y\n",
    "!sudo apt-get install espeak-ng aria2 -y\n",
    "\n",
    "# ディレクトリが存在しない場合に作成\n",
    "!mkdir -p /notebooks/AniPortrait/pretrained_model\n",
    "\n",
    "import os\n",
    "\n",
    "# ファイルとURLのリストを設定\n",
    "files = [\n",
    "    (\"film_net_fp16.pt\", \"https://huggingface.co/ZJYang/AniPortrait/resolve/main/film_net_fp16.pt\", \"\"),\n",
    "    (\"audio2pose.pt\", \"https://huggingface.co/ZJYang/AniPortrait/resolve/main/audio2pose.pt\", \"\"),\n",
    "    (\"audio2mesh.pt\", \"https://huggingface.co/camenduru/AniPortrait/resolve/main/audio2mesh.pt\", \"\"),\n",
    "    (\"denoising_unet.pth\", \"https://huggingface.co/camenduru/AniPortrait/resolve/main/denoising_unet.pth\", \"\"),\n",
    "    (\"motion_module.pth\", \"https://huggingface.co/camenduru/AniPortrait/resolve/main/motion_module.pth\", \"\"),\n",
    "    (\"pose_guider.pth\", \"https://huggingface.co/camenduru/AniPortrait/resolve/main/pose_guider.pth\", \"\"),\n",
    "    (\"reference_unet.pth\", \"https://huggingface.co/camenduru/AniPortrait/resolve/main/reference_unet.pth\", \"\"),\n",
    "    (\"denoising_unet.pth\", \"https://huggingface.co/camenduru/champ/resolve/main/champ/denoising_unet.pth\", \"\"),\n",
    "    (\"guidance_encoder_depth.pth\", \"https://huggingface.co/camenduru/champ/resolve/main/champ/guidance_encoder_depth.pth\", \"\"),\n",
    "    (\"guidance_encoder_dwpose.pth\", \"https://huggingface.co/camenduru/champ/resolve/main/champ/guidance_encoder_dwpose.pth\", \"\"),\n",
    "    (\"guidance_encoder_normal.pth\", \"https://huggingface.co/camenduru/champ/resolve/main/champ/guidance_encoder_normal.pth\", \"\"),\n",
    "    (\"guidance_encoder_semantic_map.pth\", \"https://huggingface.co/camenduru/champ/resolve/main/champ/guidance_encoder_semantic_map.pth\", \"\"),\n",
    "    (\"motion_module.pth\", \"https://huggingface.co/camenduru/champ/resolve/main/champ/motion_module.pth\", \"\"),\n",
    "    (\"reference_unet.pth\", \"https://huggingface.co/camenduru/champ/resolve/main/champ/reference_unet.pth\", \"\"),\n",
    "    (\"config.json\", \"https://huggingface.co/camenduru/champ/raw/main/image_encoder/config.json\", \"image_encoder\"),\n",
    "    (\"pytorch_model.bin\", \"https://huggingface.co/camenduru/champ/resolve/main/image_encoder/pytorch_model.bin\", \"image_encoder\"),\n",
    "    (\"config.json\", \"https://huggingface.co/camenduru/champ/raw/main/sd-vae-ft-mse/config.json\", \"sd-vae-ft-mse\"),\n",
    "    (\"diffusion_pytorch_model.bin\", \"https://huggingface.co/camenduru/champ/resolve/main/sd-vae-ft-mse/diffusion_pytorch_model.bin\", \"sd-vae-ft-mse\"),\n",
    "    (\"preprocessor_config.json\", \"https://huggingface.co/camenduru/champ/raw/main/stable-diffusion-v1-5/feature_extractor/preprocessor_config.json\", \"stable-diffusion-v1-5/feature_extractor\"),\n",
    "    (\"model_index.json\", \"https://huggingface.co/camenduru/champ/raw/main/stable-diffusion-v1-5/model_index.json\", \"stable-diffusion-v1-5\"),\n",
    "    (\"config.json\", \"https://huggingface.co/camenduru/champ/raw/main/stable-diffusion-v1-5/unet/config.json\", \"stable-diffusion-v1-5/unet\"),\n",
    "    (\"diffusion_pytorch_model.bin\", \"https://huggingface.co/camenduru/champ/resolve/main/stable-diffusion-v1-5/unet/diffusion_pytorch_model.bin\", \"stable-diffusion-v1-5/unet\"),\n",
    "    (\"v1-inference.yaml\", \"https://huggingface.co/camenduru/champ/raw/main/stable-diffusion-v1-5/v1-inference.yaml\", \"stable-diffusion-v1-5\"),\n",
    "    (\"config.json\", \"https://huggingface.co/facebook/wav2vec2-base-960h/raw/main/config.json\", \"wav2vec2-base-960h\"),\n",
    "    (\"feature_extractor_config.json\", \"https://huggingface.co/facebook/wav2vec2-base-960h/raw/main/feature_extractor_config.json\", \"wav2vec2-base-960h\"),\n",
    "    (\"preprocessor_config.json\", \"https://huggingface.co/facebook/wav2vec2-base-960h/raw/main/preprocessor_config.json\", \"wav2vec2-base-960h\"),\n",
    "    (\"pytorch_model.bin\", \"https://huggingface.co/facebook/wav2vec2-base-960h/resolve/main/pytorch_model.bin\", \"wav2vec2-base-960h\"),\n",
    "    (\"special_tokens_map.json\", \"https://huggingface.co/facebook/wav2vec2-base-960h/raw/main/special_tokens_map.json\", \"wav2vec2-base-960h\"),\n",
    "    (\"tf_model.h5\", \"https://huggingface.co/facebook/wav2vec2-base-960h/resolve/main/tf_model.h5\", \"wav2vec2-base-960h\"),\n",
    "    (\"tokenizer_config.json\", \"https://huggingface.co/facebook/wav2vec2-base-960h/raw/main/tokenizer_config.json\", \"wav2vec2-base-960h\"),\n",
    "    (\"vocab.json\", \"https://huggingface.co/facebook/wav2vec2-base-960h/raw/main/vocab.json\", \"wav2vec2-base-960h\")\n",
    "]\n",
    "\n",
    "base_directory = \"/notebooks/AniPortrait/pretrained_model\"\n",
    "\n",
    "# 各ファイルのダウンロード\n",
    "for filename, url, subfolder in files:\n",
    "    directory = os.path.join(base_directory, subfolder)\n",
    "    if not os.path.exists(directory):\n",
    "        os.makedirs(directory)  # 必要なサブディレクトリがない場合は作成\n",
    "    filepath = os.path.join(directory, filename)\n",
    "    if not os.path.exists(filepath):\n",
    "        # aria2を使ってファイルをダウンロード\n",
    "        !aria2c --console-log-level=error -c -x 16 -s 16 -k 1M \"{url}\" -d \"{directory}\" -o \"{filename}\"\n",
    "\n",
    "# 依存関係のインストール\n",
    "!pip install -q -r /notebooks/AniPortrait/requirements.txt\n",
    "!pip install torch==2.0.0 torchvision==0.15.1 torchaudio==2.0.0 --extra-index-url https://download.pytorch.org/whl/cu118\n",
    "\n",
    "# アプリケーションの実行\n",
    "!python /notebooks/AniPortrait/scripts/app.py --share"
   ]
  },
  {
   "cell_type": "code",
   "execution_count": 2,
   "id": "af4006f5-45a1-4e03-b5c5-e0bf8e701c53",
   "metadata": {
    "execution": {
     "iopub.execute_input": "2024-04-30T07:56:51.428477Z",
     "iopub.status.busy": "2024-04-30T07:56:51.427208Z",
     "iopub.status.idle": "2024-04-30T07:56:55.129512Z",
     "shell.execute_reply": "2024-04-30T07:56:55.125585Z",
     "shell.execute_reply.started": "2024-04-30T07:56:51.428429Z"
    }
   },
   "outputs": [
    {
     "name": "stdout",
     "output_type": "stream",
     "text": [
      "^C\n",
      "\u001b[31mERROR: Operation cancelled by user\u001b[0m\u001b[31m\n",
      "\u001b[0m"
     ]
    },
    {
     "ename": "UnboundLocalError",
     "evalue": "local variable 'child' referenced before assignment",
     "output_type": "error",
     "traceback": [
      "\u001b[0;31m---------------------------------------------------------------------------\u001b[0m",
      "\u001b[0;31mKeyboardInterrupt\u001b[0m                         Traceback (most recent call last)",
      "File \u001b[0;32m/usr/local/lib/python3.10/dist-packages/IPython/utils/_process_posix.py:148\u001b[0m, in \u001b[0;36mProcessHandler.system\u001b[0;34m(self, cmd)\u001b[0m\n\u001b[1;32m    147\u001b[0m \u001b[38;5;28;01melse\u001b[39;00m:\n\u001b[0;32m--> 148\u001b[0m     child \u001b[38;5;241m=\u001b[39m \u001b[43mpexpect\u001b[49m\u001b[38;5;241;43m.\u001b[39;49m\u001b[43mspawn\u001b[49m\u001b[43m(\u001b[49m\u001b[38;5;28;43mself\u001b[39;49m\u001b[38;5;241;43m.\u001b[39;49m\u001b[43msh\u001b[49m\u001b[43m,\u001b[49m\u001b[43m \u001b[49m\u001b[43margs\u001b[49m\u001b[38;5;241;43m=\u001b[39;49m\u001b[43m[\u001b[49m\u001b[38;5;124;43m'\u001b[39;49m\u001b[38;5;124;43m-c\u001b[39;49m\u001b[38;5;124;43m'\u001b[39;49m\u001b[43m,\u001b[49m\u001b[43m \u001b[49m\u001b[43mcmd\u001b[49m\u001b[43m]\u001b[49m\u001b[43m)\u001b[49m  \u001b[38;5;66;03m# Vanilla Pexpect\u001b[39;00m\n\u001b[1;32m    149\u001b[0m flush \u001b[38;5;241m=\u001b[39m sys\u001b[38;5;241m.\u001b[39mstdout\u001b[38;5;241m.\u001b[39mflush\n",
      "File \u001b[0;32m/usr/local/lib/python3.10/dist-packages/pexpect/pty_spawn.py:205\u001b[0m, in \u001b[0;36mspawn.__init__\u001b[0;34m(self, command, args, timeout, maxread, searchwindowsize, logfile, cwd, env, ignore_sighup, echo, preexec_fn, encoding, codec_errors, dimensions, use_poll)\u001b[0m\n\u001b[1;32m    204\u001b[0m \u001b[38;5;28;01melse\u001b[39;00m:\n\u001b[0;32m--> 205\u001b[0m     \u001b[38;5;28;43mself\u001b[39;49m\u001b[38;5;241;43m.\u001b[39;49m\u001b[43m_spawn\u001b[49m\u001b[43m(\u001b[49m\u001b[43mcommand\u001b[49m\u001b[43m,\u001b[49m\u001b[43m \u001b[49m\u001b[43margs\u001b[49m\u001b[43m,\u001b[49m\u001b[43m \u001b[49m\u001b[43mpreexec_fn\u001b[49m\u001b[43m,\u001b[49m\u001b[43m \u001b[49m\u001b[43mdimensions\u001b[49m\u001b[43m)\u001b[49m\n\u001b[1;32m    206\u001b[0m \u001b[38;5;28mself\u001b[39m\u001b[38;5;241m.\u001b[39muse_poll \u001b[38;5;241m=\u001b[39m use_poll\n",
      "File \u001b[0;32m/usr/local/lib/python3.10/dist-packages/pexpect/pty_spawn.py:303\u001b[0m, in \u001b[0;36mspawn._spawn\u001b[0;34m(self, command, args, preexec_fn, dimensions)\u001b[0m\n\u001b[1;32m    300\u001b[0m     \u001b[38;5;28mself\u001b[39m\u001b[38;5;241m.\u001b[39margs \u001b[38;5;241m=\u001b[39m [a \u001b[38;5;28;01mif\u001b[39;00m \u001b[38;5;28misinstance\u001b[39m(a, \u001b[38;5;28mbytes\u001b[39m) \u001b[38;5;28;01melse\u001b[39;00m a\u001b[38;5;241m.\u001b[39mencode(\u001b[38;5;28mself\u001b[39m\u001b[38;5;241m.\u001b[39mencoding)\n\u001b[1;32m    301\u001b[0m                  \u001b[38;5;28;01mfor\u001b[39;00m a \u001b[38;5;129;01min\u001b[39;00m \u001b[38;5;28mself\u001b[39m\u001b[38;5;241m.\u001b[39margs]\n\u001b[0;32m--> 303\u001b[0m \u001b[38;5;28mself\u001b[39m\u001b[38;5;241m.\u001b[39mptyproc \u001b[38;5;241m=\u001b[39m \u001b[38;5;28;43mself\u001b[39;49m\u001b[38;5;241;43m.\u001b[39;49m\u001b[43m_spawnpty\u001b[49m\u001b[43m(\u001b[49m\u001b[38;5;28;43mself\u001b[39;49m\u001b[38;5;241;43m.\u001b[39;49m\u001b[43margs\u001b[49m\u001b[43m,\u001b[49m\u001b[43m \u001b[49m\u001b[43menv\u001b[49m\u001b[38;5;241;43m=\u001b[39;49m\u001b[38;5;28;43mself\u001b[39;49m\u001b[38;5;241;43m.\u001b[39;49m\u001b[43menv\u001b[49m\u001b[43m,\u001b[49m\n\u001b[1;32m    304\u001b[0m \u001b[43m                             \u001b[49m\u001b[43mcwd\u001b[49m\u001b[38;5;241;43m=\u001b[39;49m\u001b[38;5;28;43mself\u001b[39;49m\u001b[38;5;241;43m.\u001b[39;49m\u001b[43mcwd\u001b[49m\u001b[43m,\u001b[49m\u001b[43m \u001b[49m\u001b[38;5;241;43m*\u001b[39;49m\u001b[38;5;241;43m*\u001b[39;49m\u001b[43mkwargs\u001b[49m\u001b[43m)\u001b[49m\n\u001b[1;32m    306\u001b[0m \u001b[38;5;28mself\u001b[39m\u001b[38;5;241m.\u001b[39mpid \u001b[38;5;241m=\u001b[39m \u001b[38;5;28mself\u001b[39m\u001b[38;5;241m.\u001b[39mptyproc\u001b[38;5;241m.\u001b[39mpid\n",
      "File \u001b[0;32m/usr/local/lib/python3.10/dist-packages/pexpect/pty_spawn.py:315\u001b[0m, in \u001b[0;36mspawn._spawnpty\u001b[0;34m(self, args, **kwargs)\u001b[0m\n\u001b[1;32m    314\u001b[0m \u001b[38;5;250m\u001b[39m\u001b[38;5;124;03m'''Spawn a pty and return an instance of PtyProcess.'''\u001b[39;00m\n\u001b[0;32m--> 315\u001b[0m \u001b[38;5;28;01mreturn\u001b[39;00m \u001b[43mptyprocess\u001b[49m\u001b[38;5;241;43m.\u001b[39;49m\u001b[43mPtyProcess\u001b[49m\u001b[38;5;241;43m.\u001b[39;49m\u001b[43mspawn\u001b[49m\u001b[43m(\u001b[49m\u001b[43margs\u001b[49m\u001b[43m,\u001b[49m\u001b[43m \u001b[49m\u001b[38;5;241;43m*\u001b[39;49m\u001b[38;5;241;43m*\u001b[39;49m\u001b[43mkwargs\u001b[49m\u001b[43m)\u001b[49m\n",
      "File \u001b[0;32m/usr/local/lib/python3.10/dist-packages/ptyprocess/ptyprocess.py:315\u001b[0m, in \u001b[0;36mPtyProcess.spawn\u001b[0;34m(cls, argv, cwd, env, echo, preexec_fn, dimensions, pass_fds)\u001b[0m\n\u001b[1;32m    314\u001b[0m os\u001b[38;5;241m.\u001b[39mclose(exec_err_pipe_write)\n\u001b[0;32m--> 315\u001b[0m exec_err_data \u001b[38;5;241m=\u001b[39m \u001b[43mos\u001b[49m\u001b[38;5;241;43m.\u001b[39;49m\u001b[43mread\u001b[49m\u001b[43m(\u001b[49m\u001b[43mexec_err_pipe_read\u001b[49m\u001b[43m,\u001b[49m\u001b[43m \u001b[49m\u001b[38;5;241;43m4096\u001b[39;49m\u001b[43m)\u001b[49m\n\u001b[1;32m    316\u001b[0m os\u001b[38;5;241m.\u001b[39mclose(exec_err_pipe_read)\n",
      "\u001b[0;31mKeyboardInterrupt\u001b[0m: ",
      "\nDuring handling of the above exception, another exception occurred:\n",
      "\u001b[0;31mUnboundLocalError\u001b[0m                         Traceback (most recent call last)",
      "Cell \u001b[0;32mIn [2], line 3\u001b[0m\n\u001b[1;32m      1\u001b[0m \u001b[38;5;66;03m# 依存関係のインストール\u001b[39;00m\n\u001b[1;32m      2\u001b[0m get_ipython()\u001b[38;5;241m.\u001b[39msystem(\u001b[38;5;124m'\u001b[39m\u001b[38;5;124mpip install -q -r /notebooks/AniPortrait/requirements.txt\u001b[39m\u001b[38;5;124m'\u001b[39m)\n\u001b[0;32m----> 3\u001b[0m \u001b[43mget_ipython\u001b[49m\u001b[43m(\u001b[49m\u001b[43m)\u001b[49m\u001b[38;5;241;43m.\u001b[39;49m\u001b[43msystem\u001b[49m\u001b[43m(\u001b[49m\u001b[38;5;124;43m'\u001b[39;49m\u001b[38;5;124;43mpip install torch==2.0.0 torchvision==0.15.1 torchaudio==2.0.0 --extra-index-url https://download.pytorch.org/whl/cu118\u001b[39;49m\u001b[38;5;124;43m'\u001b[39;49m\u001b[43m)\u001b[49m\n",
      "File \u001b[0;32m/usr/local/lib/python3.10/dist-packages/ipykernel/zmqshell.py:633\u001b[0m, in \u001b[0;36mZMQInteractiveShell.system_piped\u001b[0;34m(self, cmd)\u001b[0m\n\u001b[1;32m    631\u001b[0m         \u001b[38;5;28mself\u001b[39m\u001b[38;5;241m.\u001b[39muser_ns[\u001b[38;5;124m\"\u001b[39m\u001b[38;5;124m_exit_code\u001b[39m\u001b[38;5;124m\"\u001b[39m] \u001b[38;5;241m=\u001b[39m system(cmd)\n\u001b[1;32m    632\u001b[0m \u001b[38;5;28;01melse\u001b[39;00m:\n\u001b[0;32m--> 633\u001b[0m     \u001b[38;5;28mself\u001b[39m\u001b[38;5;241m.\u001b[39muser_ns[\u001b[38;5;124m\"\u001b[39m\u001b[38;5;124m_exit_code\u001b[39m\u001b[38;5;124m\"\u001b[39m] \u001b[38;5;241m=\u001b[39m \u001b[43msystem\u001b[49m\u001b[43m(\u001b[49m\u001b[38;5;28;43mself\u001b[39;49m\u001b[38;5;241;43m.\u001b[39;49m\u001b[43mvar_expand\u001b[49m\u001b[43m(\u001b[49m\u001b[43mcmd\u001b[49m\u001b[43m,\u001b[49m\u001b[43m \u001b[49m\u001b[43mdepth\u001b[49m\u001b[38;5;241;43m=\u001b[39;49m\u001b[38;5;241;43m1\u001b[39;49m\u001b[43m)\u001b[49m\u001b[43m)\u001b[49m\n",
      "File \u001b[0;32m/usr/local/lib/python3.10/dist-packages/IPython/utils/_process_posix.py:164\u001b[0m, in \u001b[0;36mProcessHandler.system\u001b[0;34m(self, cmd)\u001b[0m\n\u001b[1;32m    159\u001b[0m         out_size \u001b[38;5;241m=\u001b[39m \u001b[38;5;28mlen\u001b[39m(child\u001b[38;5;241m.\u001b[39mbefore)\n\u001b[1;32m    160\u001b[0m \u001b[38;5;28;01mexcept\u001b[39;00m \u001b[38;5;167;01mKeyboardInterrupt\u001b[39;00m:\n\u001b[1;32m    161\u001b[0m     \u001b[38;5;66;03m# We need to send ^C to the process.  The ascii code for '^C' is 3\u001b[39;00m\n\u001b[1;32m    162\u001b[0m     \u001b[38;5;66;03m# (the character is known as ETX for 'End of Text', see\u001b[39;00m\n\u001b[1;32m    163\u001b[0m     \u001b[38;5;66;03m# curses.ascii.ETX).\u001b[39;00m\n\u001b[0;32m--> 164\u001b[0m     \u001b[43mchild\u001b[49m\u001b[38;5;241m.\u001b[39msendline(\u001b[38;5;28mchr\u001b[39m(\u001b[38;5;241m3\u001b[39m))\n\u001b[1;32m    165\u001b[0m     \u001b[38;5;66;03m# Read and print any more output the program might produce on its\u001b[39;00m\n\u001b[1;32m    166\u001b[0m     \u001b[38;5;66;03m# way out.\u001b[39;00m\n\u001b[1;32m    167\u001b[0m     \u001b[38;5;28;01mtry\u001b[39;00m:\n",
      "\u001b[0;31mUnboundLocalError\u001b[0m: local variable 'child' referenced before assignment"
     ]
    }
   ],
   "source": [
    "# 依存関係のインストール\n",
    "!pip install -q -r /notebooks/AniPortrait/requirements.txt\n",
    "!pip install torch==2.0.0 torchvision==0.15.1 torchaudio==2.0.0 --extra-index-url https://download.pytorch.org/whl/cu118"
   ]
  }
 ],
 "metadata": {
  "kernelspec": {
   "display_name": "Python 3 (ipykernel)",
   "language": "python",
   "name": "python3"
  },
  "language_info": {
   "codemirror_mode": {
    "name": "ipython",
    "version": 3
   },
   "file_extension": ".py",
   "mimetype": "text/x-python",
   "name": "python",
   "nbconvert_exporter": "python",
   "pygments_lexer": "ipython3",
   "version": "3.10.10"
  }
 },
 "nbformat": 4,
 "nbformat_minor": 5
}
